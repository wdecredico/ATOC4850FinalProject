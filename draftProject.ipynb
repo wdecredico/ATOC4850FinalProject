{
 "cells": [
  {
   "cell_type": "markdown",
   "id": "fa1895bffc61c722",
   "metadata": {
    "collapsed": false,
    "jupyter": {
     "outputs_hidden": false
    }
   },
   "source": [
    "# 2D Diffusion Model\n",
    "\n",
    "This models temperature diffusion over a two dimensional area. <br>"
   ]
  },
  {
   "cell_type": "markdown",
   "id": "db9852ef81e695d3",
   "metadata": {
    "collapsed": false,
    "jupyter": {
     "outputs_hidden": false
    }
   },
   "source": [
    "### Notes on Model Draft\n",
    "\n",
    "Being a draft, there are many features that will be in the final version, that are not here yet.\n",
    "- Adjusting grid cell size. Right now, the grid cell size is 1 meter. I plan to add an option to change the size of the grid cell.\n",
    "- More complete plotting. Right now, plotting is minimal, and only plots the first and last timestep. I will add more plotting features, and figure out a way to show the temperature change over time. The tick marks are also unideal and look sloppy. I am not sure how to fix this, but I want to find a way to make the number of ticks adjustable depending on the size of the grid, and also look clean.\n",
    "- Runge Kutta 4th order. As of right now, I couldn't get the runge kutta method to give correct numbers, so I used Euler's Method instead. This will be worked on as the Runge Kutta method will give more accuracy.\n",
    "- Colormap. Right now, the colormap is not looking how I want. I'm still working on it. I want it to show a spectrum from blue to red, and clearly demonstrate temperature from the color of the plotted cell. I'm also working on a colorbar to show what each color maps to, but I haven't made a working version yet.\n",
    "- Incoming solar radiation currently does not depend on time of day. I plan to add a feature that would change the incoming solar radiation depending on the time of day. This way, we could see a day night cycle. I have not done this yet."
   ]
  },
  {
   "cell_type": "markdown",
   "id": "4508065edfb925b3",
   "metadata": {
    "collapsed": false,
    "jupyter": {
     "outputs_hidden": false
    }
   },
   "source": [
    "\n",
    "\n",
    "### Input Information:\n",
    "- Area: x_dimension and y_dimension take input in meters to create a grid.\n",
    "- Grid cell size: takes input in meters.  Grid cells are square. x_dimension and y_dimension must be divisible by variable grid_cell_size\n",
    "    (I haven't added this feature yet. Grid size is 1 meter. I plan to add this later)\n",
    "- Initial temperatures: 2d numpy array for starting temperature at each grid cell.  Dimensions of initial temperature array must match the grid dimensions, or an error will be thrown.\n",
    "- Boundary conditions: 'boundary' is a 2d numpy array who's outer ring will be the boundary layer for the area.\n",
    "- Heat Capacity: 2d numpy array for heat capacity at each grid cell.\n",
    "- End Time: in seconds. Multiply by constants 'HOURS', DAYS', 'MONTHS', OR 'YEARS' to make longer time periods readable. "
   ]
  },
  {
   "cell_type": "code",
   "id": "e97e9e2bbb331167",
   "metadata": {
    "collapsed": false,
    "jupyter": {
     "outputs_hidden": false
    },
    "ExecuteTime": {
     "end_time": "2025-04-17T11:38:51.906324Z",
     "start_time": "2025-04-17T11:38:51.854813Z"
    }
   },
   "source": [
    "#standard library imports\n",
    "from abc import ABC, abstractmethod\n",
    "import subprocess\n",
    "\n",
    "\n",
    "# third party imports\n",
    "import numpy as np\n",
    "import matplotlib\n",
    "import matplotlib.pyplot as plt\n",
    "from matplotlib.colors import LinearSegmentedColormap\n",
    "from matplotlib.animation import FuncAnimation\n",
    "from matplotlib.colors import ListedColormap\n",
    "matplotlib.use('TkAgg')\n",
    "\n",
    "\"\"\"Note about displaying animation: \"\"\"\n",
    "\n",
    "%matplotlib inline"
   ],
   "outputs": [],
   "execution_count": 49
  },
  {
   "cell_type": "code",
   "id": "b73338507023893a",
   "metadata": {
    "collapsed": false,
    "jupyter": {
     "outputs_hidden": false
    },
    "ExecuteTime": {
     "end_time": "2025-04-17T11:38:52.870115Z",
     "start_time": "2025-04-17T11:38:52.843573Z"
    }
   },
   "source": [
    "class Constants:\n",
    "\n",
    "    EARTH_RADIUS = 6.371E6  # in meters\n",
    "    EMISSIVITY = 0.82\n",
    "    STEFAN_BOLTZMANN_CONSTANT = 5.67E-8  # in W / m^2 / K^4\n",
    "\n",
    "    SOLAR_IRRADIANCE = 1361 #units of W/m^2\n",
    "\n",
    "    SILICON_SPECIFIC_HEAT = 712  # in J /kg / K\n",
    "    SILICON_ROCK_DENSITY = 2650  # in kg/m^3\n",
    "    WATER_SPECIFIC_HEAT = 4000  # in J /kg / K\n",
    "    WATER_DENSITY = 1000  # in kg/m^3\n",
    "\n",
    "    DAYS_PER_YEAR = 365.25\n",
    "    HOURS_PER_DAY = 24\n",
    "    SECONDS_PER_HOUR = 3600\n",
    "    SECONDS_PER_DAY = HOURS_PER_DAY * SECONDS_PER_HOUR\n",
    "    SECONDS_PER_YEAR = DAYS_PER_YEAR * SECONDS_PER_DAY\n",
    "\n",
    "    # renamed for readability in naming end time\n",
    "    DAYS = SECONDS_PER_DAY\n",
    "    YEARS = SECONDS_PER_YEAR\n",
    "    HOURS = SECONDS_PER_HOUR\n",
    "\n",
    "    SOLAR_INSOLATION = 1361  # in W m-2\n",
    "    DEGREES_TO_RADIANS = np.pi / 180.0\n",
    "\n",
    "    EARTH_ALBEDO = 0.32"
   ],
   "outputs": [],
   "execution_count": 50
  },
  {
   "cell_type": "markdown",
   "id": "aefbf92b490f48a7",
   "metadata": {
    "collapsed": false,
    "jupyter": {
     "outputs_hidden": false
    }
   },
   "source": [
    "# Model Inputs"
   ]
  },
  {
   "cell_type": "code",
   "id": "dbf4e97a975b5ced",
   "metadata": {
    "collapsed": false,
    "jupyter": {
     "outputs_hidden": false
    },
    "ExecuteTime": {
     "end_time": "2025-04-17T11:38:55.368874Z",
     "start_time": "2025-04-17T11:38:55.358347Z"
    }
   },
   "source": [
    "grid_x_dimension: int = 50\n",
    "grid_y_dimension: int = 50\n",
    "\n",
    "# grid_cell_size: float = 1\n",
    "\n",
    "diffusion_coefficient = .1\n",
    "\n",
    "# Format: (low temperature (inclusive), high temperature (exclusive), (shape))\n",
    "initial_temperatures: np.ndarray = np.random.randint(225, 326, (grid_y_dimension, grid_x_dimension))\n",
    "\n",
    "\n",
    "boundary: np.ndarray = np.full((grid_y_dimension+2, grid_x_dimension+2), 280)  # Constant boundary temperature of 280K\n",
    "\n",
    "grid_cell_size = 1 # Please don't change this\n",
    "silicon_heat_capacity = Constants.SILICON_SPECIFIC_HEAT * Constants.SILICON_ROCK_DENSITY * grid_cell_size # Also don't change this\n",
    "water_heat_capacity = Constants.WATER_SPECIFIC_HEAT * Constants.WATER_DENSITY * grid_cell_size # Don't change this either\n",
    "heat_capacity: np.ndarray = np.full((grid_y_dimension, grid_x_dimension), silicon_heat_capacity)\n",
    "\n",
    "# makes a circular pond\n",
    "heat_capacity[12, 15:19] = water_heat_capacity\n",
    "heat_capacity[13, 13:21] = water_heat_capacity\n",
    "heat_capacity[14:16, 12:22] = water_heat_capacity\n",
    "heat_capacity[16:20, 11:23] = water_heat_capacity\n",
    "heat_capacity[20:22, 12:22] = water_heat_capacity\n",
    "heat_capacity[22, 13:21] = water_heat_capacity\n",
    "heat_capacity[23, 15:19] = water_heat_capacity\n",
    "\n",
    "\n",
    "\n",
    "#change the model timing\n",
    "time_step: float = 1 * Constants.HOURS\n",
    "num_steps: int = 500"
   ],
   "outputs": [],
   "execution_count": 51
  },
  {
   "cell_type": "code",
   "id": "89a7adec-2a23-4594-908b-2c446aad36ad",
   "metadata": {
    "ExecuteTime": {
     "end_time": "2025-04-17T11:38:56.425535Z",
     "start_time": "2025-04-17T11:38:56.421123Z"
    }
   },
   "source": [],
   "outputs": [],
   "execution_count": null
  },
  {
   "cell_type": "code",
   "id": "412874a94a44f177",
   "metadata": {
    "collapsed": false,
    "jupyter": {
     "outputs_hidden": false
    },
    "ExecuteTime": {
     "end_time": "2025-04-17T11:38:57.392332Z",
     "start_time": "2025-04-17T11:38:57.372698Z"
    }
   },
   "source": [
    "class Grid:\n",
    "\n",
    "    def __init__(self, x_dimension: int, y_dimension: int):\n",
    "\n",
    "        self.x_dimension = x_dimension\n",
    "        self.y_dimension = y_dimension\n",
    "\n",
    "        self.midpoints = self.create_grid_midpoints()\n",
    "        self.x_intersection_points, self.y_intersection_points = self.create_grid_interface_points()\n",
    "\n",
    "        self.x_segment_length = self.midpoints[0, 1, 0] - self.midpoints[0, 0, 0]\n",
    "        self.y_segment_length = self.midpoints[0, 0, 1] - self.midpoints[1, 0, 1]\n",
    "\n",
    "        # Current temperatures including boundary cells\n",
    "        self.current_temperatures = np.zeros((y_dimension + 2, x_dimension + 2))\n",
    "\n",
    "        self.initial_temperatures = np.zeros((y_dimension + 2, x_dimension + 2))\n",
    "        self.boundary = np.zeros((y_dimension + 2, x_dimension + 2))\n",
    "\n",
    "        self.boundary_condition: str = \"\"\n",
    "        self.heat_capacity: np.ndarray = np.zeros((y_dimension, x_dimension))\n",
    "\n",
    "    def set_temperatures(self, temperatures: np.ndarray) -> None:\n",
    "        \"\"\"Sets the inside of the temperature array. Leaves the boundary unchanged\n",
    "\n",
    "        Parameter 'temperatures' must be 2d numpy array of size (y_dimension, x_dimension)\"\"\"\n",
    "\n",
    "        #check for correct dimension\n",
    "        if not temperatures.shape == (self.y_dimension, self.x_dimension):\n",
    "            print(\"In set_temperatures(), temperatures was not of the right shape\")\n",
    "\n",
    "        self.current_temperatures[1:-1, 1:-1] = temperatures\n",
    "\n",
    "    def update_temperatures(self, temperature_change: np.ndarray) -> None:\n",
    "        \"\"\"Updates the current temperatures by adding input values 'temperature' to the current temperatures\n",
    "\n",
    "            Parameter 'temperatures' must be a 2d numpy array with size (y_dimension, x_dimension)\"\"\"\n",
    "\n",
    "        if not temperature_change.shape == (self.y_dimension, self.x_dimension):\n",
    "            print(\"In update_temperatures(), temperatures was not of the correct shape.\")\n",
    "\n",
    "        self.current_temperatures[1:-1, 1:-1] += temperature_change\n",
    "\n",
    "    def remove_boundary(self, temperatures: np.ndarray) -> np.ndarray:\n",
    "        \"\"\"Removes the boundary cells, and returns a 2d numpy array of size (y_dimension, x_dimension) containing the temperatures of the cells\"\"\"\n",
    "\n",
    "        return temperatures[1:-1, 1:-1]\n",
    "\n",
    "    def set_initial_temperatures(self, temperatures: np.ndarray) -> None:\n",
    "        \"\"\"Sets initial temperature based on a 2d numpy array passed in.\n",
    "            temperatures must be a 2d numpy array with size [y_dimension, x_dimension]\"\"\"\n",
    "\n",
    "        # check that input is the right size\n",
    "        if not temperatures.shape == (self.y_dimension, self.x_dimension):\n",
    "            print(\"Input of initial temperatures is not the correct shape.\")\n",
    "\n",
    "        self.current_temperatures[1:-1, 1:-1] = temperatures\n",
    "        self.initial_temperatures[1:-1, 1:-1] = temperatures\n",
    "\n",
    "    def set_boundary(self, boundary: np.ndarray) -> None:\n",
    "        \"\"\"Sets the boundary conditions. Input must be a 2d numpy array\n",
    "            with size (y_dimension+2, x_dimension+2)\"\"\"\n",
    "\n",
    "        # check that the input is the right size\n",
    "        if not boundary.shape == (self.y_dimension + 2, self.x_dimension + 2):\n",
    "            print(\"Input of boundary is not the correct shape.\")\n",
    "\n",
    "        self.current_temperatures[:, 0] = boundary[:, 0]\n",
    "        self.current_temperatures[:, -1] = boundary[:, -1]\n",
    "        self.current_temperatures[0, :] = boundary[0, :]\n",
    "        self.current_temperatures[-1, :] = boundary[-1, :]\n",
    "\n",
    "        self.boundary[:, 0] = boundary[:, 0]\n",
    "        self.boundary[:, -1] = boundary[:, -1]\n",
    "        self.boundary[0, :] = boundary[0, :]\n",
    "        self.boundary[-1, :] = boundary[-1, :]\n",
    "\n",
    "    def set_heat_capacity(self, heat_capacity: np.ndarray) -> None:\n",
    "        \"\"\"Takes in a 2d numpy array for what the heat capacity is at each cell.\"\"\"\n",
    "\n",
    "        # check that input is the right size\n",
    "        if not heat_capacity.shape == (self.y_dimension, self.x_dimension):\n",
    "            print(f\"Heat Capacity array is the wrong size.\")\n",
    "            print(f\"Grid dimension: ({self.y_dimension}, {self.x_dimension})\")\n",
    "            print(f\"Heat capacity array: {heat_capacity.shape}\")\n",
    "            quit()\n",
    "\n",
    "        self.heat_capacity = heat_capacity\n",
    "\n",
    "    def create_grid_midpoints(self) -> np.ndarray:\n",
    "        \"\"\"Creates a grid storing coordinate points.  Includes coordinate points of the boundary.\"\"\"\n",
    "\n",
    "        # Check that dimensions are above zero\n",
    "        if self.x_dimension <= 0 or self.y_dimension <= 0:\n",
    "            print(f\"Grid dimensions must be above zero.\")\n",
    "\n",
    "        # dimensions +2 to include the coordinates of the boundary cells\n",
    "        grid_midpoints = np.zeros((self.y_dimension + 2, self.x_dimension + 2, 2))\n",
    "\n",
    "        # fills the numpy array with coordinates of cell midpoints, including boundary cell midpoints\n",
    "        for x_index in range(self.x_dimension + 2):\n",
    "            grid_midpoints[:, x_index, 0] = x_index - (self.x_dimension + 1) / 2\n",
    "            for y_index in range(self.y_dimension + 2):\n",
    "                grid_midpoints[y_index, x_index, 1] = -1 * (y_index - (self.y_dimension + 1) / 2)\n",
    "\n",
    "        return grid_midpoints\n",
    "\n",
    "    def create_grid_interface_points(self) -> tuple[np.ndarray, np.ndarray]:\n",
    "        \"\"\"Creates two 2d numpy arrays.  One for coordinates of grid interface points on the x-axis,\n",
    "            and one for grid interface points on the y-axis.\"\"\"\n",
    "\n",
    "        def create_x_interfaces() -> np.ndarray:\n",
    "\n",
    "            grid_x_interfaces = np.zeros((self.y_dimension, self.x_dimension + 1, 2))\n",
    "\n",
    "            for x_index in range(self.x_dimension + 1):\n",
    "                grid_x_interfaces[:, x_index, 0] = x_index - (self.x_dimension / 2)\n",
    "\n",
    "                for y_index in range(self.y_dimension):\n",
    "                    grid_x_interfaces[y_index, x_index, 1] = -1 * (y_index - (self.y_dimension - 1) / 2)\n",
    "\n",
    "            return grid_x_interfaces\n",
    "\n",
    "        def create_y_interfaces() -> np.ndarray:\n",
    "\n",
    "            grid_y_interfaces = np.zeros((self.y_dimension + 1, self.x_dimension, 2))\n",
    "\n",
    "            for x_index in range(self.x_dimension):\n",
    "                grid_y_interfaces[:, x_index, 0] = x_index - (self.x_dimension - 1) / 2\n",
    "\n",
    "                for y_index in range(self.y_dimension + 1):\n",
    "                    grid_y_interfaces[y_index, x_index, 1] = -1 * (y_index - (self.y_dimension / 2))\n",
    "\n",
    "            return grid_y_interfaces\n",
    "\n",
    "        return create_x_interfaces(), create_y_interfaces()\n",
    "\n"
   ],
   "outputs": [],
   "execution_count": 52
  },
  {
   "cell_type": "code",
   "id": "39c915d9bbc70225",
   "metadata": {
    "collapsed": false,
    "jupyter": {
     "outputs_hidden": false
    },
    "ExecuteTime": {
     "end_time": "2025-04-17T11:38:58.383608Z",
     "start_time": "2025-04-17T11:38:58.372324Z"
    }
   },
   "source": [
    "class DyDtEquation(ABC):\n",
    "    \"\"\"Parent class for first order differential equation of form \\frac{dy}{dt} = f(t, y)\"\"\"\n",
    "\n",
    "    @abstractmethod\n",
    "    def __call__(self, t, y):\n",
    "        pass\n",
    "\n",
    "\n",
    "class Diffusion(DyDtEquation):\n",
    "\n",
    "    def __init__(self, diffusion_coefficient: float, grid: Grid):\n",
    "        self.diffusion_coefficient = diffusion_coefficient\n",
    "        self.grid = grid\n",
    "\n",
    "    def __call__(self, time: float, temperatures: np.ndarray) -> np.ndarray:\n",
    "        \"\"\"Calculates the temperature change in units of [units here] for each cell midpoint of the inputted array.\n",
    "\n",
    "        Parameters\n",
    "        ----------\n",
    "        time: function does not depend on time, function only takes it for consistency, input a float of whatever\n",
    "        temperatures: A 2d numpy array of temperature at each grid cell. Must include boundary.\"\"\"\n",
    "\n",
    "        def x_direction_diffusion(temperature: np.ndarray) -> np.ndarray:\n",
    "            \"\"\"Calculates temperature diffusion along the x-axis.  Returns a 2d numpy array\n",
    "                of size (y_dimension, x_dimension) with values of diffusion (dT/dt) in units\n",
    "                of [units here] for each grid midpoint position.\"\"\"\n",
    "\n",
    "            # temperature change across cells in the x direction\n",
    "            dt_dx = (temperature[1:-1, 1:] - temperature[1:-1, :-1]) / self.grid.x_segment_length\n",
    "\n",
    "            flux: np.ndarray = -1 * self.diffusion_coefficient * dt_dx\n",
    "\n",
    "            incoming_shortwave_radiation = (Constants.SOLAR_IRRADIANCE / 4) * (1 - Constants.EARTH_ALBEDO)\n",
    "            outgoing_longwave_radiation = (1 - Constants.EMISSIVITY / 2) * Constants.STEFAN_BOLTZMANN_CONSTANT * (\n",
    "                    temperature[1:-1, 1:-1] ** 4)\n",
    "            flux_derivative = (flux[:, 1:] - flux[:, :-1]) / self.grid.x_segment_length\n",
    "\n",
    "            x_direction_diffusion = ((incoming_shortwave_radiation - outgoing_longwave_radiation - flux_derivative) /\n",
    "                                     self.grid.heat_capacity)\n",
    "\n",
    "            return x_direction_diffusion\n",
    "\n",
    "        def y_direction_diffusion(temperature: np.ndarray) -> np.ndarray:\n",
    "            \"\"\"Calculates temperature diffusion along the y-axis.  Returns a 2d numpy array\n",
    "            of size (y_dimension, x_dimension) with values of diffusion (dT/dt) in units\n",
    "            of [units here] for each grid midpoint position.\"\"\"\n",
    "\n",
    "            # temperature change across cells in the y direction\n",
    "            dt_dy = (temperatures[1: , 1:-1] - temperatures[:-1, 1:-1]) / self.grid.y_segment_length\n",
    "\n",
    "            flux: np.ndarray = -1 * self.diffusion_coefficient * dt_dy\n",
    "\n",
    "            incoming_shortwave_radiation = (Constants.SOLAR_IRRADIANCE / 4) * (1 - Constants.EARTH_ALBEDO)\n",
    "            outgoing_longwave_radiation = ((1 - Constants.EMISSIVITY / 2) * Constants.STEFAN_BOLTZMANN_CONSTANT *\n",
    "                                           (temperatures[1:-1, 1:-1] ** 4))\n",
    "            flux_derivative = (flux[1:, :] - flux[:-1, :]) / self.grid.y_segment_length\n",
    "\n",
    "            x_direction_diffusion = ((incoming_shortwave_radiation - outgoing_longwave_radiation - flux_derivative) /\n",
    "                                     self.grid.heat_capacity)\n",
    "\n",
    "            return x_direction_diffusion\n",
    "\n",
    "        return x_direction_diffusion(temperatures) + y_direction_diffusion(temperatures)\n"
   ],
   "outputs": [],
   "execution_count": 53
  },
  {
   "cell_type": "code",
   "id": "5e33dd2a31193b96",
   "metadata": {
    "collapsed": false,
    "jupyter": {
     "outputs_hidden": false
    },
    "ExecuteTime": {
     "end_time": "2025-04-17T11:38:59.400763Z",
     "start_time": "2025-04-17T11:38:59.389051Z"
    }
   },
   "source": [
    "def area_runge_kutta_calculator(grid: Grid, function: DyDtEquation, time_step: float, num_steps: int) -> np.ndarray:\n",
    "    \"\"\"Uses the 4th order runge kutta method to solve a differential equation over an area that includes a boundary.\n",
    "\n",
    "        Parameters:\n",
    "        -----------\n",
    "        grid: Grid object\n",
    "        function: 1st order differential equation of type DyDtEquation. returns 2d numpy array of (dT/dt) at each grid cell midpoint\n",
    "        initial_values: 2d numpy array with size (y_dimension, x_dimension) containing the initial value of what we are calculating at each grid cell\n",
    "        time_step: float, length of the time step in seconds\n",
    "        num_steps: int, how many steps to take\"\"\"\n",
    "\n",
    "    time = 0\n",
    "    y_values: np.ndarray = np.zeros((grid.y_dimension + 2, grid.x_dimension + 2, num_steps + 1))\n",
    "    y_values[:, :, 0] = grid.current_temperatures\n",
    "\n",
    "    for step in range(1, num_steps + 1):\n",
    "\n",
    "        k1: np.ndarray = function(time, grid.current_temperatures)\n",
    "\n",
    "        intermediate_temperature_storage: np.ndarray = grid.current_temperatures.copy()\n",
    "        intermediate_temperature_storage[1:-1, 1:-1] += time_step *(k1[1:-1, 1:-1]/2)\n",
    "\n",
    "        k2: np.ndarray = function((time + .5*time_step), intermediate_temperature_storage)\n",
    "\n",
    "        intermediate_temperature_storage: np.ndarray = grid.current_temperatures.copy()\n",
    "        intermediate_temperature_storage[1:-1, 1:-1] += time_step * (k2[1:-1, 1:-1] / 2)\n",
    "\n",
    "        k3: np.ndarray = function((time + .5*time_step), (grid.current_temperatures + k2*(time_step/2)))\n",
    "\n",
    "        intermediate_temperature_storage: np.ndarray = grid.current_temperatures.copy()\n",
    "        intermediate_temperature_storage[1:-1, 1:-1] += time_step * k2[1:-1, 1:-1]\n",
    "\n",
    "        k4: np.ndarray = function((time + time_step), (grid.current_temperatures + k3*time_step))\n",
    "\n",
    "        temperature_change = (grid.current_temperatures * (1/6) * (k1 + 2*k2 + 2*k3 + k4) * time_step)\n",
    "\n",
    "        grid.update_temperatures(grid.remove_boundary(temperature_change))\n",
    "\n",
    "        y_values[:, :, step] = grid.current_temperatures\n",
    "\n",
    "    return y_values\n",
    "\n",
    "def area_euler_method_calculator(grid: Grid, function: DyDtEquation, time_step: float, num_steps: int) -> np.ndarray:\n",
    "    \n",
    "    time = 0\n",
    "    y_values: np.ndarray = np.zeros((grid.y_dimension+2, grid.x_dimension+2, num_steps + 1))\n",
    "    y_values[:, :, 0] = grid.current_temperatures.copy()\n",
    "    \n",
    "    for step in range(1, num_steps+1):\n",
    "        \n",
    "        next_y_values = grid.current_temperatures[1:-1, 1:-1] + time_step*function(time, grid.current_temperatures)\n",
    "        \n",
    "        grid.set_temperatures(next_y_values)\n",
    "        y_values[:, :, step] = grid.current_temperatures\n",
    "        \n",
    "    \n",
    "    return y_values   "
   ],
   "outputs": [],
   "execution_count": 54
  },
  {
   "cell_type": "code",
   "id": "ef2570b049ed8c05",
   "metadata": {
    "collapsed": false,
    "jupyter": {
     "outputs_hidden": false
    },
    "ExecuteTime": {
     "end_time": "2025-04-17T11:39:00.586282Z",
     "start_time": "2025-04-17T11:39:00.390257Z"
    }
   },
   "source": [
    "# Create the grid\n",
    "grid = Grid(grid_x_dimension, grid_y_dimension)\n",
    "\n",
    "grid.set_initial_temperatures(initial_temperatures)\n",
    "grid.set_boundary(boundary)\n",
    "grid.set_heat_capacity(heat_capacity)\n",
    "\n",
    "#initialized the diffusion equation\n",
    "diffusion = Diffusion(diffusion_coefficient, grid)\n",
    "\n",
    "time_stepped_temperatures = area_euler_method_calculator(grid, diffusion, time_step, num_steps)\n",
    "\n"
   ],
   "outputs": [],
   "execution_count": 55
  },
  {
   "cell_type": "markdown",
   "id": "b9763f945d5564eb",
   "metadata": {
    "collapsed": false,
    "jupyter": {
     "outputs_hidden": false
    }
   },
   "source": [
    "# Plotting"
   ]
  },
  {
   "cell_type": "code",
   "id": "b51dedeaa2268cb",
   "metadata": {
    "collapsed": false,
    "jupyter": {
     "outputs_hidden": false
    },
    "ExecuteTime": {
     "end_time": "2025-04-17T12:43:04.588892Z",
     "start_time": "2025-04-17T12:43:03.507275Z"
    }
   },
   "source": [
    "num_x_ticks: int = 11\n",
    "num_y_ticks: int = 16\n",
    "x_axis: np.ndarray = np.round(np.linspace((-1 * (grid_x_dimension - 1) / 2), (grid_x_dimension - 1) / 2, num_x_ticks),\n",
    "                              1)\n",
    "y_axis: np.ndarray = np.round(np.linspace((grid_y_dimension - 1) / 2, -1 * (grid_y_dimension - 1) / 2, num_y_ticks), 1)\n",
    "x_axis_tick_locations: np.ndarray = np.linspace(0, grid_x_dimension, num_x_ticks)\n",
    "y_axis_tick_locations: np.ndarray = np.linspace(0, grid_y_dimension, num_y_ticks)\n",
    "\n",
    "x_coordinates, y_coordinates = np.meshgrid(x_axis, y_axis)\n",
    "\n",
    "temperature_color_map = LinearSegmentedColormap.from_list(\"blue_red\", [\"#0000FF\", \"#FF0000\"])\n",
    "heat_capacity_colors = ListedColormap(['#C6B89E', '#7fcdff'])\n",
    "bounds = [water_heat_capacity, silicon_heat_capacity]\n",
    "normalize_heat_capacity_colors = plt.Normalize(vmin=min(bounds), vmax=max(bounds))\n",
    "\n",
    "fig, ax = plt.subplots(2, 3, figsize=(14, 10))\n",
    "\n",
    "for subplot in ax.flat:\n",
    "    subplot.set_xticks((x_axis_tick_locations))\n",
    "    subplot.set_xticklabels(x_axis)\n",
    "    subplot.set_yticks(y_axis_tick_locations)\n",
    "    subplot.set_yticklabels(y_axis)\n",
    "\n",
    "ax[0, 0].axis('off')\n",
    "ax[0, 2].axis('off')\n",
    "\n",
    "#plot the heat capacity\n",
    "ax[0, 1].imshow(grid.heat_capacity, cmap=heat_capacity_colors, norm=normalize_heat_capacity_colors)\n",
    "ax[0, 1].set_title(\"Surface Material\")\n",
    "\n",
    "\n",
    "#plot initial temperatures\n",
    "initial_temperatures_plot = ax[1, 0].imshow(grid.remove_boundary(grid.initial_temperatures), cmap=temperature_color_map)\n",
    "ax[1, 0].set_title(\"Initial Temperatures\")\n",
    "\n",
    "temperature_graph = ax[1, 1].imshow(grid.remove_boundary(time_stepped_temperatures[:, :, 0]), cmap=temperature_color_map)\n",
    "ax[1, 1].set_title(\"Intermediate Time Steps\")\n",
    "\n",
    "# Function to update the image for each frame\n",
    "def update(frame):\n",
    "    temperature_graph.set_array(grid.remove_boundary(time_stepped_temperatures[:, :, frame]))\n",
    "    return [temperature_graph]\n",
    "\n",
    "# Create the animation\n",
    "temperature_animation = FuncAnimation(fig, update, frames=num_steps, interval=.01, blit=True)\n",
    "\n",
    "\n",
    "#plot final temperatures\n",
    "final_temperatures_plot = ax[1, 2].imshow(grid.remove_boundary(time_stepped_temperatures[:, :, -1]), cmap=temperature_color_map)\n",
    "ax[1, 2].set_title(\"Final Temperatures\")\n",
    "\n",
    "plt.tight_layout()\n",
    "plt.show()"
   ],
   "outputs": [
    {
     "data": {
      "text/plain": [
       "<Figure size 1400x1000 with 6 Axes>"
      ],
      "image/png": "[encoded data removed]"
     },
     "metadata": {},
     "output_type": "display_data"
    }
   ],
   "execution_count": 57
  },
  {
   "cell_type": "code",
   "execution_count": 16,
   "id": "efd8e4cc8c1d2c7f",
   "metadata": {
    "ExecuteTime": {
     "end_time": "2025-04-12T04:43:16.329971300Z",
     "start_time": "2025-04-12T04:43:16.318487Z"
    },
    "collapsed": false,
    "jupyter": {
     "outputs_hidden": false
    }
   },
   "outputs": [],
   "source": []
  },
  {
   "cell_type": "code",
   "execution_count": null,
   "id": "aec74c8309fdace4",
   "metadata": {
    "collapsed": false,
    "jupyter": {
     "outputs_hidden": false
    }
   },
   "outputs": [],
   "source": []
  }
 ],
 "metadata": {
  "kernelspec": {
   "display_name": "Python [conda env:base] *",
   "language": "python",
   "name": "conda-base-py"
  },
  "language_info": {
   "codemirror_mode": {
    "name": "ipython",
    "version": 3
   },
   "file_extension": ".py",
   "mimetype": "text/x-python",
   "name": "python",
   "nbconvert_exporter": "python",
   "pygments_lexer": "ipython3",
   "version": "3.12.7"
  }
 },
 "nbformat": 4,
 "nbformat_minor": 5
}
