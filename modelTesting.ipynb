{
 "cells": [
  {
   "cell_type": "markdown",
   "source": [
    "# 2D Diffusion Model\n",
    "\n",
    "This models temperature diffusion over a two dimensional area. <br>\n",
    "\n",
    "### Input Information:\n",
    "- Area: x_dimension and y_dimension take input in meters to create a grid.\n",
    "- Grid cell size: takes input in meters.  Grid cells are square. x_dimension and y_dimension must be divisible by variable grid_cell_size\n",
    "- Initial temperatures: 2d numpy array for starting temperature at each grid cell.  Dimensions of initial temperature array must match the grid dimensions, or an error will be thrown.\n",
    "- Boundary conditions: 'boundary' is a 2d numpy array who's outer ring will be the boundary layer for the area.  Note: the boundary_condition variable is just for readability, and isn't checked or enforced.\n",
    "- Heat Capacity: 2d numpy array for heat capacity at each grid cell.\n",
    "- End Time: in seconds. Multiply by constants 'DAYS', 'MONTHS', OR 'YEARS' to make longer time periods readable. "
   ],
   "metadata": {
    "collapsed": false
   },
   "id": "34e00c6a214bd04b"
  },
  {
   "cell_type": "code",
   "outputs": [],
   "source": [
    "# third party imports\n",
    "import numpy as np\n",
    "from scipy.integrate import solve_ivp\n",
    "import matplotlib.pyplot as plt\n",
    "%matplotlib inline\n",
    "\n",
    "# Local application imports\n",
    "from constants import Constants\n",
    "from grid2d import Grid\n",
    "import equations"
   ],
   "metadata": {
    "collapsed": false,
    "ExecuteTime": {
     "end_time": "2025-03-18T10:40:26.945437100Z",
     "start_time": "2025-03-18T10:40:25.965611400Z"
    }
   },
   "id": "2c04fa1e7858d9ba",
   "execution_count": 1
  },
  {
   "cell_type": "markdown",
   "source": [
    "## Model Inputs:"
   ],
   "metadata": {
    "collapsed": false
   },
   "id": "44884e599360168c"
  },
  {
   "cell_type": "code",
   "outputs": [],
   "source": [
    "grid_x_dimension: int = 6\n",
    "grid_y_dimension: int = 4\n",
    "\n",
    "grid_cell_size: float = 1\n",
    "\n",
    "diffusion_constant: float = .1\n",
    "\n",
    "# Format: (low temperature (inclusive), high temperature (exclusive), (shape))\n",
    "initial_temperatures: np.ndarray = np.random.randint(225, 326, (grid_y_dimension, grid_x_dimension))\n",
    "\n",
    "\n",
    "boundary_condition: str = 'dirichlet'\n",
    "boundary: np.ndarray = np.full((grid_y_dimension+2, grid_x_dimension+2), 280)  # Constant boundary temperature of 280K\n",
    "\n",
    "heat_capacity: np.ndarray = np.full((grid_y_dimension, grid_x_dimension), 'something')\n",
    "end_time: float = 5 * Constants.YEARS"
   ],
   "metadata": {
    "collapsed": false,
    "ExecuteTime": {
     "end_time": "2025-03-18T10:40:49.024568Z",
     "start_time": "2025-03-18T10:40:49.010601500Z"
    }
   },
   "id": "69ab797d71dd4575",
   "execution_count": 4
  },
  {
   "cell_type": "code",
   "outputs": [],
   "source": [
    "#initialize the grid\n",
    "grid = Grid(grid_x_dimension, grid_y_dimension)\n",
    "\n",
    "grid.set_initial_temperatures(initial_temperatures)\n",
    "grid.set_boundary_condition(boundary_condition)\n",
    "grid.set_boundary(boundary)\n",
    "\n",
    "x_diffusion = equations.XDirectionDiffusion(diffusion_constant, grid)\n",
    "y_diffusion = equations.YDirectionDiffusion(diffusion_constant, grid)\n",
    "\n",
    "#x_diffusion = solve_ivp(x_diffusion)\n",
    "#y_diffusion = solve_ivp()\n",
    "\n"
   ],
   "metadata": {
    "collapsed": false,
    "ExecuteTime": {
     "end_time": "2025-03-18T10:40:50.047323900Z",
     "start_time": "2025-03-18T10:40:50.043329600Z"
    }
   },
   "id": "a4fefcc001501dfd",
   "execution_count": 5
  },
  {
   "cell_type": "code",
   "outputs": [],
   "source": [],
   "metadata": {
    "collapsed": false
   },
   "id": "a3a0b300087840fe"
  }
 ],
 "metadata": {
  "kernelspec": {
   "display_name": "Python 3",
   "language": "python",
   "name": "python3"
  },
  "language_info": {
   "codemirror_mode": {
    "name": "ipython",
    "version": 2
   },
   "file_extension": ".py",
   "mimetype": "text/x-python",
   "name": "python",
   "nbconvert_exporter": "python",
   "pygments_lexer": "ipython2",
   "version": "2.7.6"
  }
 },
 "nbformat": 4,
 "nbformat_minor": 5
}
