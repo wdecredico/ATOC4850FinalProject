{
 "cells": [
  {
   "cell_type": "markdown",
   "source": [
    "# 2D Diffusion Model\n",
    "\n",
    "This models temperature diffusion over a two dimensional area. <br>\n",
    "\n",
    "### Input Information:\n",
    "- Area: x_dimension and y_dimension take input in meters to create a grid.\n",
    "- Grid cell size: takes input in meters.  Grid cells are square. x_dimension and y_dimension must be divisible by variable grid_cell_size\n",
    "- Initial temperatures: 2d numpy array for starting temperature at each grid cell.  Dimensions of initial temperature array must match the grid dimensions, or an error will be thrown.\n",
    "- Boundary conditions: 'boundary' is a 2d numpy array who's outer ring will be the boundary layer for the area.  Note: the boundary_condition variable is just for readability, and isn't checked or enforced.\n",
    "- Heat Capacity: 2d numpy array for heat capacity at each grid cell.\n",
    "- End Time: in seconds. Multiply by constants 'DAYS', 'MONTHS', OR 'YEARS' to make longer time periods readable. "
   ],
   "metadata": {
    "collapsed": false
   },
   "id": "34e00c6a214bd04b"
  },
  {
   "cell_type": "code",
   "outputs": [],
   "source": [
    "# third party imports\n",
    "import numpy as np\n",
    "from scipy.integrate import solve_ivp\n",
    "import matplotlib.pyplot as plt\n",
    "%matplotlib inline\n",
    "\n",
    "# Local application imports\n",
    "from constants import Constants\n",
    "from grid2d import Grid\n",
    "import equations"
   ],
   "metadata": {
    "collapsed": false,
    "ExecuteTime": {
     "end_time": "2025-03-27T02:33:22.376329200Z",
     "start_time": "2025-03-27T02:33:22.360369200Z"
    }
   },
   "id": "2c04fa1e7858d9ba",
   "execution_count": 3
  },
  {
   "cell_type": "markdown",
   "source": [
    "## Model Inputs:"
   ],
   "metadata": {
    "collapsed": false
   },
   "id": "44884e599360168c"
  },
  {
   "cell_type": "code",
   "outputs": [],
   "source": [
    "grid_x_dimension: int = 6\n",
    "grid_y_dimension: int = 4\n",
    "\n",
    "grid_cell_size: float = 1\n",
    "\n",
    "diffusion_constant: float = .1\n",
    "\n",
    "# Format: (low temperature (inclusive), high temperature (exclusive), (shape))\n",
    "initial_temperatures: np.ndarray = np.random.randint(225, 326, (grid_y_dimension, grid_x_dimension))\n",
    "\n",
    "\n",
    "boundary_condition: str = 'dirichlet'\n",
    "boundary: np.ndarray = np.full((grid_y_dimension+2, grid_x_dimension+2), 280)  # Constant boundary temperature of 280K\n",
    "\n",
    "heat_capacity: np.ndarray = np.full((grid_y_dimension, grid_x_dimension), 22)\n",
    "\n",
    "#change the model timing\n",
    "end_time: float = 5 * Constants.YEARS\n",
    "time_step: float = 1 * Constants.DAYS\n",
    "model_times: np.ndarray = np.arange(0, end_time, time_step)\n",
    "num_steps: int = 5"
   ],
   "metadata": {
    "collapsed": false,
    "ExecuteTime": {
     "end_time": "2025-03-27T02:33:25.244091100Z",
     "start_time": "2025-03-27T02:33:25.233116Z"
    }
   },
   "id": "69ab797d71dd4575",
   "execution_count": 4
  },
  {
   "cell_type": "code",
   "outputs": [],
   "source": [
    "def area_runge_kutta_calculator(grid: Grid, function: equations.DyDtEquation, time_step: float, num_steps: int) -> np.ndarray:\n",
    "    \"\"\"Uses the 4th order runge kutta method to solve a differential equation over an area that includes a boundary.\n",
    "    \n",
    "        Parameters:\n",
    "        -----------\n",
    "        grid: Grid object\n",
    "        function: 1st order differential equation of type DyDtEquation. returns 2d numpy array of (dT/dt) at each grid cell midpoint\n",
    "        initial_values: 2d numpy array with size (y_dimension, x_dimension) containing the initial value of what we are calculating at each grid cell\n",
    "        time_step: float, length of the time step in seconds\n",
    "        num_steps: int, how many steps to take\"\"\"\n",
    "            \n",
    "    \n",
    "    time = 0\n",
    "    y_values: np.ndarray = np.zeros((grid.y_dimension+2, grid.x_dimension+2, num_steps+1))\n",
    "    y_values[:, :, 0] = grid.initial_temperatures\n",
    "    \n",
    "    \n",
    "    for step in range(1, num_steps+1):\n",
    "    \n",
    "        k1: np.ndarray = time_step * function(time, grid.current_temperatures)\n",
    "        k2: np.ndarray = time_step * function((time + .5*time_step), (grid.current_temperatures + .5*k1))\n",
    "        k3: np.ndarray = time_step * function((time + .5*time_step), (grid.current_temperatures + .5*k2))\n",
    "        k4: np.ndarray = time_step * function((time + time_step), (grid.current_temperatures + k3))\n",
    "        \n",
    "        next_y_values = grid.current_temperatures * (1/6) * (k1 + 2*k2 + 2*k3 + k4)\n",
    "        \n",
    "        y_values[:, :, step] = next_y_values\n",
    "        grid.set_temperatures(next_y_values[1:-1, 1:-1])\n",
    "    \n",
    "    return y_values\n",
    "    "
   ],
   "metadata": {
    "collapsed": false,
    "ExecuteTime": {
     "end_time": "2025-03-27T02:33:28.682613900Z",
     "start_time": "2025-03-27T02:33:28.667620700Z"
    }
   },
   "id": "5bf55fe26f7fe2b7",
   "execution_count": 5
  },
  {
   "cell_type": "code",
   "outputs": [],
   "source": [
    "#print(\"Is this working?\")\n",
    "#initialize the grid\n",
    "grid = Grid(grid_x_dimension, grid_y_dimension)\n",
    "\n",
    "grid.set_initial_temperatures(initial_temperatures)\n",
    "grid.set_boundary_condition(boundary_condition)\n",
    "grid.set_boundary(boundary)\n",
    "grid.set_heat_capacity(heat_capacity)\n",
    "\n",
    "# array = np.full((4, 6), 5)\n",
    "# grid.boundary[1:-1, 1:-1] = array\n",
    "# print(f\"Array: \\n {array}\")\n",
    "# print(f\"Added Array:\\n {grid.boundary}\")\n",
    "\n",
    "# print(f\"initial_temperatures:\\n {grid.initial_temperatures}\")\n",
    "# print(f\"boundary:\\n {grid.boundary}\")\n",
    "# print(f\"temperatures + boundary:\\n {grid.initial_temperatures + grid.boundary}\")\n",
    "\n",
    "x_diffusion = equations.XDirectionDiffusion(diffusion_constant, grid)\n",
    "y_diffusion = equations.YDirectionDiffusion(diffusion_constant, grid)\n",
    "\n",
    "x_direction_diffusion: np.ndarray = area_runge_kutta_calculator(grid, x_diffusion, time_step, num_steps)\n",
    "\n",
    "#x_diffusion = solve_ivp(x_diffusion, (0, end_time), y0=grid.initial_temperatures, method='RK45', t_eval=model_times)\n",
    "#y_diffusion = solve_ivp()\n",
    "\n",
    "#print(x_direction_diffusion[:, :, 4])\n"
   ],
   "metadata": {
    "collapsed": false,
    "ExecuteTime": {
     "end_time": "2025-03-27T02:37:59.489407500Z",
     "start_time": "2025-03-27T02:37:29.592604Z"
    }
   },
   "id": "a4fefcc001501dfd",
   "execution_count": 11
  },
  {
   "metadata": {},
   "cell_type": "markdown",
   "source": [
    "### Plotting"
   ],
   "id": "49d8c7d5c18742e2"
  },
  {
   "metadata": {
    "ExecuteTime": {
     "end_time": "2025-03-20T03:10:09.841567Z",
     "start_time": "2025-03-20T03:10:09.707986700Z"
    }
   },
   "cell_type": "code",
   "outputs": [
    {
     "data": {
      "text/plain": "<Figure size 640x480 with 2 Axes>",
      "image/png": "[encoded data removed]"
     },
     "metadata": {},
     "output_type": "display_data"
    }
   ],
   "execution_count": 25,
   "source": [
    "#create the tick marks on the x and y axis\n",
    "x_axis: np.ndarray = np.linspace((-1 * (grid_x_dimension-1)/2), (grid_x_dimension-1)/2, grid_x_dimension)\n",
    "y_axis: np.ndarray = np.linspace((grid_y_dimension-1)/2, -1 * (grid_y_dimension-1)/2, grid_y_dimension)\n",
    "\n",
    "#choose where the ticks go\n",
    "y_segment_length = grid.y_segment_length\n",
    "x_axis_tick_locations: np.ndarray = np.arange(0, grid_x_dimension, grid.x_segment_length)\n",
    "y_axis_tick_locations: np.ndarray = np.arange(0, grid_y_dimension, grid.y_segment_length)\n",
    "\n",
    "x_coordinates, y_coordinates = np.meshgrid(x_axis, y_axis)\n",
    "\n",
    "z = grid.temperatures[1:-1, 1:-1]\n",
    "\n",
    "\n",
    "fig, ax = plt.subplots()\n",
    "\n",
    "#set tick marks\n",
    "ax.set_xticks(x_axis_tick_locations)\n",
    "ax.set_xticklabels(x_axis)\n",
    "ax.set_yticks(y_axis_tick_locations)\n",
    "ax.set_yticklabels(y_axis)\n",
    "temperature_data = ax.imshow(grid.temperatures[1:-1, 1:-1], cmap='RdBu')\n",
    "\n",
    "#colorbar\n",
    "colorbar = fig.colorbar(temperature_data)\n",
    "\n",
    "\n",
    "plt.show()\n"
   ],
   "id": "e3577078892ca47b"
  },
  {
   "cell_type": "code",
   "outputs": [],
   "source": [],
   "metadata": {
    "collapsed": false,
    "ExecuteTime": {
     "end_time": "2025-03-20T02:52:04.342017500Z",
     "start_time": "2025-03-20T02:52:04.327865900Z"
    }
   },
   "id": "a50455a1ddd03488",
   "execution_count": 12
  },
  {
   "cell_type": "code",
   "outputs": [],
   "source": [],
   "metadata": {
    "collapsed": false,
    "ExecuteTime": {
     "end_time": "2025-03-20T02:22:38.967974700Z",
     "start_time": "2025-03-20T02:22:38.944529400Z"
    }
   },
   "id": "2d300c596cc8a669",
   "execution_count": 38
  },
  {
   "cell_type": "code",
   "outputs": [
    {
     "name": "stdout",
     "output_type": "stream",
     "text": [
      "num_steps = 913.125\n",
      "EARTH_HEAT_CAPACITY: 1.7168974150272234e+23\n",
      "EARTH_HEAT_CAPACITY_PER_UNIT_AREA: 336603999.99999994\n"
     ]
    }
   ],
   "source": [
    "# One Dimensional Nonequilbrium Energy Balance Model with Diffusion \n",
    "import numpy as np\n",
    "import matplotlib.pyplot as plt\n",
    "import matplotlib.cm as cm\n",
    "import matplotlib.colors as mcolors\n",
    "from fontTools.ttLib.tables.otTables import DeltaSetIndexMap\n",
    "from numpy.ma.core import true_divide\n",
    "from scipy.integrate import solve_ivp\n",
    "\n",
    "%matplotlib inline\n",
    "\n",
    "EARTH_RADIUS = 6.371E6 #in meters\n",
    "EMISSIVITY_FRACTION = 0.82\n",
    "STEFAN_BOLTZMANN_CONSTANT = 5.67E-8 #in W / m^2 / K^4\n",
    "SILICON_ROCK_HEAT_CAPACITY = 712  #in J /kg / K\n",
    "SILICON_ROCK_DENSITY = 2650  #in kg/m^3\n",
    "WATER_HEAT_CAPACITY = 4000  #in J /kg / K\n",
    "WATER_DENSITY = 1000  #in kg/m^3\n",
    "\n",
    "DAYS_PER_YEAR = 365.25\n",
    "HOURS_PER_DAY = 24\n",
    "SECONDS_PER_HOUR = 3600\n",
    "SECONDS_PER_DAY = HOURS_PER_DAY * SECONDS_PER_HOUR\n",
    "SECONDS_PER_YEAR = DAYS_PER_YEAR * SECONDS_PER_DAY\n",
    "\n",
    "SOLAR_INSOLATION = 1361  #in W m-2\n",
    "DEGREES_TO_RADIANS = np.pi / 180.0\n",
    "\n",
    "# set model parameters\n",
    "ALBEDO = 0.32\n",
    "depth = 100  # Depth of ocean mixed layer/land active layer, in m\n",
    "\n",
    "# create grid and set initial conditions\n",
    "num_segments = 50\n",
    "interface_positions = np.linspace(-1, 1, num_segments + 1)\n",
    "midpoint_positions = (interface_positions[0:num_segments] + interface_positions[1:num_segments + 1]) / 2\n",
    "segment_length = interface_positions[1] - interface_positions[0]\n",
    "model_lat = np.arcsin(midpoint_positions) / DEGREES_TO_RADIANS\n",
    "\n",
    "DIFFUSION_COEFFICIENT = 0.1\n",
    "\n",
    "# set time integration parameters\n",
    "t_end = 25 * SECONDS_PER_YEAR  # integration end time\n",
    "dt = 10 * SECONDS_PER_DAY  # time integration maximum step size\n",
    "DT_BETWEEN_PLOTS = 60 * SECONDS_PER_DAY  # time between plots\n",
    "times = np.arange(0, t_end, DT_BETWEEN_PLOTS)  # array of timesteps for output\n",
    "times_for_finding_equilibrium_temperature = np.arange(0, 20 * t_end, DT_BETWEEN_PLOTS)\n",
    "print(f\"num_steps = {t_end / dt}\")\n",
    "\n",
    "\n",
    "initial_temperatures = 288 + 0 * midpoint_positions  # constant initial temperature\n",
    "\n",
    "\n",
    "EARTH_VOLUME = 4 * np.pi * EARTH_RADIUS ** 2 * depth  # Volume of top x-meters of earth (given by depth)\n",
    "EARTH_HEAT_CAPACITY = (0.7 * (WATER_HEAT_CAPACITY * EARTH_VOLUME * WATER_DENSITY) +\n",
    "                       0.3 * (SILICON_ROCK_HEAT_CAPACITY * EARTH_VOLUME * SILICON_ROCK_DENSITY)) #in J K-1\n",
    "EARTH_HEAT_CAPACITY_PER_UNIT_AREA = EARTH_HEAT_CAPACITY / (4 * np.pi * EARTH_RADIUS ** 2)  #in J m-2 K-1\n",
    "print(f\"EARTH_HEAT_CAPACITY: {EARTH_HEAT_CAPACITY}\")\n",
    "print(f\"EARTH_HEAT_CAPACITY_PER_UNIT_AREA: {EARTH_HEAT_CAPACITY_PER_UNIT_AREA}\")"
   ],
   "metadata": {
    "collapsed": false,
    "ExecuteTime": {
     "end_time": "2025-03-29T10:00:45.133951200Z",
     "start_time": "2025-03-29T10:00:45.100756700Z"
    }
   },
   "id": "589dd5a0c03a870b",
   "execution_count": 2
  },
  {
   "cell_type": "code",
   "outputs": [],
   "source": [],
   "metadata": {
    "collapsed": false
   },
   "id": "a065ed93113b2a1a"
  }
 ],
 "metadata": {
  "kernelspec": {
   "display_name": "Python 3",
   "language": "python",
   "name": "python3"
  },
  "language_info": {
   "codemirror_mode": {
    "name": "ipython",
    "version": 2
   },
   "file_extension": ".py",
   "mimetype": "text/x-python",
   "name": "python",
   "nbconvert_exporter": "python",
   "pygments_lexer": "ipython2",
   "version": "2.7.6"
  }
 },
 "nbformat": 4,
 "nbformat_minor": 5
}
